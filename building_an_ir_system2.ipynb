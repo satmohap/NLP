{
 "cells": [
  {
   "cell_type": "markdown",
   "metadata": {},
   "source": [
    "### <span style=\"color:purple\">  Importing Necessary Libraries and Files"
   ]
  },
  {
   "cell_type": "code",
   "execution_count": 1,
   "metadata": {},
   "outputs": [
    {
     "name": "stderr",
     "output_type": "stream",
     "text": [
      "[nltk_data] Downloading package stopwords to\n",
      "[nltk_data]     C:\\Users\\Satya\\AppData\\Roaming\\nltk_data...\n",
      "[nltk_data]   Package stopwords is already up-to-date!\n",
      "[nltk_data] Downloading package averaged_perceptron_tagger to\n",
      "[nltk_data]     C:\\Users\\Satya\\AppData\\Roaming\\nltk_data...\n",
      "[nltk_data]   Package averaged_perceptron_tagger is already up-to-\n",
      "[nltk_data]       date!\n"
     ]
    }
   ],
   "source": [
    "import nltk\n",
    "import re\n",
    "nltk.download('stopwords')\n",
    "from nltk.corpus import stopwords\n",
    "from nltk.tag import *\n",
    "import time\n",
    "import itertools\n",
    "from nltk import FreqDist\n",
    "import pandas as pd \n",
    "import gzip \n",
    "import numpy as np\n",
    "import matplotlib.pyplot as plt\n",
    "import seaborn as sns\n",
    "from IPython.display import display_html\n",
    "from bs4 import BeautifulSoup \n",
    "from sklearn.feature_extraction.text import CountVectorizer\n",
    "from sklearn.feature_extraction.text import TfidfTransformer\n",
    "from scipy import spatial\n",
    "%matplotlib inline\n",
    "D1 = pd.read_csv('D1.csv')\n",
    "D2 = pd.read_csv('D2.csv')"
   ]
  },
  {
   "cell_type": "markdown",
   "metadata": {},
   "source": [
    "### <span style=\"color:purple\">  Function for Pre Processing "
   ]
  },
  {
   "cell_type": "code",
   "execution_count": 2,
   "metadata": {},
   "outputs": [],
   "source": [
    "def preprocessing(File):\n",
    "    start_time = time.time()\n",
    "    corpus=[]\n",
    "    for i in range(0,len(File)): \n",
    "        review=BeautifulSoup(File[i]).get_text()  #This Removes HTML Tags\n",
    "        review= re.sub('[^a-zA-Z]',' ',review)    # Removes Punctuations and other symbols\n",
    "        review=review.lower().split()             # Converts Everything to one single case\n",
    "        review=[word for word in review if not word in set(stopwords.words('english'))]  #Removes Stop words\n",
    "        review=' '.join(review)\n",
    "        corpus.append(review)\n",
    "    end_time = time.time()\n",
    "    return(start_time,end_time,corpus)"
   ]
  },
  {
   "cell_type": "markdown",
   "metadata": {},
   "source": [
    "### <span style=\"color:purple\">  Function for Vectorization and TF-IDF Score"
   ]
  },
  {
   "cell_type": "code",
   "execution_count": 3,
   "metadata": {},
   "outputs": [],
   "source": [
    "def tf_idf_score ( File_Name , no_of_features ):\n",
    "    countvec = CountVectorizer(max_features = no_of_features)\n",
    "    File_Name=pd.DataFrame(File_Name['Body'])\n",
    "    File_Name = pd.DataFrame( countvec.fit_transform(File_Name.Body).toarray(), columns=countvec.get_feature_names())\n",
    "    tfidf_transformer = TfidfTransformer().fit(File_Name)\n",
    "    File_Name_tf = tfidf_transformer.transform(File_Name)\n",
    "    File_Name_tf_score = pd.DataFrame(File_Name_tf.toarray())\n",
    "    column_list = File_Name.columns.values\n",
    "    df_empty = pd.DataFrame( columns=column_list)\n",
    "    for i in range(1):\n",
    "        df_empty.loc[i] = 0\n",
    "    return tfidf_transformer , File_Name_tf_score , column_list , df_empty"
   ]
  },
  {
   "cell_type": "markdown",
   "metadata": {},
   "source": [
    "### <span style=\"color:purple\">  Function for finding Top 5 relevant Posts by using Cosine Similarity"
   ]
  },
  {
   "cell_type": "code",
   "execution_count": 31,
   "metadata": {},
   "outputs": [],
   "source": [
    "def rank_docs (Raw_File_Name,tf_score,column_list,input_post,tfidf_transformer,df_empty):\n",
    "    input_mod = input_post.join(df_empty, lsuffix='',rsuffix='_other')\n",
    "    input_mod1= input_mod[column_list]\n",
    "    tfidf = tfidf_transformer.transform(input_mod1)\n",
    "    tf_input = pd.DataFrame(tfidf.toarray())\n",
    "    similarity_score=[]\n",
    "    for i in range(len(tf_score.index)):\n",
    "        cosine_similarity = 1-spatial.distance.cosine(tf_input, tf_score.iloc[[i]])\n",
    "        similarity_score.append(cosine_similarity)\n",
    "        similarity_df = pd.DataFrame(similarity_score)\n",
    "        similarity_df.columns = [\"similarity_score\"]\n",
    "    top_5 = similarity_df.nlargest(5,'similarity_score')\n",
    "    bottom_5 = similarity_df.nsmallest(5,'similarity_score')\n",
    "    input_D1 = pd.read_csv(Raw_File_Name)\n",
    "    output_top5 = top_5.join(input_D1)[['Title','Body','similarity_score']]\n",
    "    print('\\033[1m{:10s}\\033[0m'.format('                   The Top 5  Posts having good match are'))\n",
    "    display(output_top5)"
   ]
  },
  {
   "cell_type": "markdown",
   "metadata": {},
   "source": [
    "### <span style=\"color:purple\">  PreProcessing for D1.CSV and D2.CSV"
   ]
  },
  {
   "cell_type": "code",
   "execution_count": 5,
   "metadata": {},
   "outputs": [
    {
     "name": "stdout",
     "output_type": "stream",
     "text": [
      "The Execution Time of the pre processing is 273.6839528083801 seconds\n",
      "The Execution Time of the pre processing is 558.6939568519592 seconds\n"
     ]
    }
   ],
   "source": [
    "D1 = pd.read_csv('D1.csv')\n",
    "start_time ,end_time,D1['Body'] = preprocessing(D1['Body'])\n",
    "print(\"The Execution Time of the pre processing is %s seconds\" % (end_time - start_time))\n",
    "D2 = pd.read_csv('D2.csv')\n",
    "D2 = pd.DataFrame(D2.head(10000))\n",
    "start_time ,end_time,D2['Body'] = preprocessing(D2['Body'])\n",
    "print(\"The Execution Time of the pre processing is %s seconds\" % (end_time - start_time))\n",
    "countvec = CountVectorizer()"
   ]
  },
  {
   "cell_type": "markdown",
   "metadata": {},
   "source": [
    "### <span style=\"color:purple\">  Vectorization and calculation of TF-IDF Score for D1.CSV and D2.CSV"
   ]
  },
  {
   "cell_type": "code",
   "execution_count": 6,
   "metadata": {},
   "outputs": [],
   "source": [
    "D1_tfidf_transformer , D1_tf_score , D1_column_list , D1_df_empty = tf_idf_score(D1,600)"
   ]
  },
  {
   "cell_type": "code",
   "execution_count": 7,
   "metadata": {},
   "outputs": [],
   "source": [
    "D2_tfidf_transformer , D2_tf_score , D2_column_list , D2_df_empty = tf_idf_score(D2,3000)"
   ]
  },
  {
   "cell_type": "markdown",
   "metadata": {},
   "source": [
    "# <span style=\"color: BLUE\">   Application Interface  for  D1.CSV"
   ]
  },
  {
   "cell_type": "markdown",
   "metadata": {},
   "source": [
    "### <span style=\"color:purple\">  Reading Input from Text File and Input PreProcessing for \"D1.CSV\""
   ]
  },
  {
   "cell_type": "code",
   "execution_count": 43,
   "metadata": {},
   "outputs": [
    {
     "name": "stdout",
     "output_type": "stream",
     "text": [
      "The Execution Time of the pre processing is 0.014993906021118164 seconds\n"
     ]
    }
   ],
   "source": [
    "input_post = pd.read_csv('InputD1.txt',  header=None) # The Input post must be enetered in this file\n",
    "input_post.columns = [\"Body\"]\n",
    "start_time ,end_time,input_post['Body'] = preprocessing(input_post['Body'])\n",
    "print(\"The Execution Time of the pre processing is %s seconds\" % (end_time - start_time))\n",
    "input_post=pd.DataFrame(input_post['Body'])\n",
    "input_postD1 = pd.DataFrame( countvec.fit_transform(input_post.Body).toarray(), columns=countvec.get_feature_names())"
   ]
  },
  {
   "cell_type": "markdown",
   "metadata": {},
   "source": [
    "### <span style=\"color:purple\">  Displaying TOP 5 Posts for D1.CSV  by using Cosine Similarity"
   ]
  },
  {
   "cell_type": "code",
   "execution_count": 44,
   "metadata": {},
   "outputs": [
    {
     "name": "stdout",
     "output_type": "stream",
     "text": [
      "\u001b[1m                   The Top 5  Posts having good match are\u001b[0m\n"
     ]
    },
    {
     "data": {
      "text/html": [
       "<div>\n",
       "<style scoped>\n",
       "    .dataframe tbody tr th:only-of-type {\n",
       "        vertical-align: middle;\n",
       "    }\n",
       "\n",
       "    .dataframe tbody tr th {\n",
       "        vertical-align: top;\n",
       "    }\n",
       "\n",
       "    .dataframe thead th {\n",
       "        text-align: right;\n",
       "    }\n",
       "</style>\n",
       "<table border=\"1\" class=\"dataframe\">\n",
       "  <thead>\n",
       "    <tr style=\"text-align: right;\">\n",
       "      <th></th>\n",
       "      <th>Title</th>\n",
       "      <th>Body</th>\n",
       "      <th>similarity_score</th>\n",
       "    </tr>\n",
       "  </thead>\n",
       "  <tbody>\n",
       "    <tr>\n",
       "      <th>1</th>\n",
       "      <td>How does noise affect generalization?</td>\n",
       "      <td>&lt;p&gt;Does increasing the noise in data help to improve the learning ability of a network? Does it make any difference or does it depend on the problem being solved? How is it affect the generalization process overall?&lt;/p&gt;\\n</td>\n",
       "      <td>1.000000</td>\n",
       "    </tr>\n",
       "    <tr>\n",
       "      <th>157</th>\n",
       "      <td>What is the difference between AI and robots?</td>\n",
       "      <td>&lt;p&gt;What is the difference between AI and robots?&lt;/p&gt;\\n</td>\n",
       "      <td>0.352893</td>\n",
       "    </tr>\n",
       "    <tr>\n",
       "      <th>3037</th>\n",
       "      <td>Loss/accuracy on Synthetic data</td>\n",
       "      <td>&lt;p&gt;I am trying to understand if there is any difference in the the interpretation of accuracy and loss on synthetic data vs real data.&lt;/p&gt;\\n</td>\n",
       "      <td>0.292964</td>\n",
       "    </tr>\n",
       "    <tr>\n",
       "      <th>17</th>\n",
       "      <td>What is the \"dropout\" technique?</td>\n",
       "      <td>&lt;p&gt;What purpose does the \"dropout\" method serve and how does it improve the overall performance of the neural network?&lt;/p&gt;\\n</td>\n",
       "      <td>0.279287</td>\n",
       "    </tr>\n",
       "    <tr>\n",
       "      <th>2989</th>\n",
       "      <td>What are temporal-difference and Monte Carlo methods intuitively?</td>\n",
       "      <td>&lt;p&gt;Intuitively, how do temporal-difference and Monte Carlo methods work in reinforcement learning? How can they be used to solve the reinforcement learning problem?&lt;/p&gt;\\n</td>\n",
       "      <td>0.276651</td>\n",
       "    </tr>\n",
       "  </tbody>\n",
       "</table>\n",
       "</div>"
      ],
      "text/plain": [
       "                                                                  Title  \\\n",
       "1                                 How does noise affect generalization?   \n",
       "157                       What is the difference between AI and robots?   \n",
       "3037                                    Loss/accuracy on Synthetic data   \n",
       "17                                     What is the \"dropout\" technique?   \n",
       "2989  What are temporal-difference and Monte Carlo methods intuitively?   \n",
       "\n",
       "                                                                                                                                                                                                                               Body  \\\n",
       "1     <p>Does increasing the noise in data help to improve the learning ability of a network? Does it make any difference or does it depend on the problem being solved? How is it affect the generalization process overall?</p>\\n   \n",
       "157                                                                                                                                                                          <p>What is the difference between AI and robots?</p>\\n   \n",
       "3037                                                                                   <p>I am trying to understand if there is any difference in the the interpretation of accuracy and loss on synthetic data vs real data.</p>\\n   \n",
       "17                                                                                                     <p>What purpose does the \"dropout\" method serve and how does it improve the overall performance of the neural network?</p>\\n   \n",
       "2989                                                     <p>Intuitively, how do temporal-difference and Monte Carlo methods work in reinforcement learning? How can they be used to solve the reinforcement learning problem?</p>\\n   \n",
       "\n",
       "      similarity_score  \n",
       "1             1.000000  \n",
       "157           0.352893  \n",
       "3037          0.292964  \n",
       "17            0.279287  \n",
       "2989          0.276651  "
      ]
     },
     "metadata": {},
     "output_type": "display_data"
    }
   ],
   "source": [
    "pd.options.display.max_colwidth = 1000\n",
    "rank_docs ('D1.csv',D1_tf_score,D1_column_list,input_postD1,D1_tfidf_transformer,D1_df_empty)"
   ]
  },
  {
   "cell_type": "markdown",
   "metadata": {},
   "source": [
    "# <span style=\"color: BLUE\">   Application Interface  for  D2.CSV"
   ]
  },
  {
   "cell_type": "markdown",
   "metadata": {},
   "source": [
    "### <span style=\"color:purple\">  Reading Input from Text File and Input PreProcessing for D2.CSV"
   ]
  },
  {
   "cell_type": "code",
   "execution_count": 47,
   "metadata": {},
   "outputs": [
    {
     "name": "stdout",
     "output_type": "stream",
     "text": [
      "The Execution Time of the pre processing is 0.014991283416748047 seconds\n"
     ]
    }
   ],
   "source": [
    "input_post = pd.read_csv('InputD2.txt',  header=None)  # The Input post must be enetered in this file\n",
    "input_post.columns = [\"Body\"]\n",
    "start_time ,end_time,input_post['Body'] = preprocessing(input_post['Body'])\n",
    "print(\"The Execution Time of the pre processing is %s seconds\" % (end_time - start_time))\n",
    "input_post=pd.DataFrame(input_post['Body'])\n",
    "input_postD2 = pd.DataFrame( countvec.fit_transform(input_post.Body).toarray(), columns=countvec.get_feature_names())"
   ]
  },
  {
   "cell_type": "markdown",
   "metadata": {},
   "source": [
    "### <span style=\"color:purple\">  Displaying TOP 5 Posts for D2.CSV by using Cosine Similarity"
   ]
  },
  {
   "cell_type": "code",
   "execution_count": 48,
   "metadata": {},
   "outputs": [
    {
     "name": "stdout",
     "output_type": "stream",
     "text": [
      "\u001b[1m                   The Top 5  Posts having good match are\u001b[0m\n"
     ]
    },
    {
     "data": {
      "text/html": [
       "<div>\n",
       "<style scoped>\n",
       "    .dataframe tbody tr th:only-of-type {\n",
       "        vertical-align: middle;\n",
       "    }\n",
       "\n",
       "    .dataframe tbody tr th {\n",
       "        vertical-align: top;\n",
       "    }\n",
       "\n",
       "    .dataframe thead th {\n",
       "        text-align: right;\n",
       "    }\n",
       "</style>\n",
       "<table border=\"1\" class=\"dataframe\">\n",
       "  <thead>\n",
       "    <tr style=\"text-align: right;\">\n",
       "      <th></th>\n",
       "      <th>Title</th>\n",
       "      <th>Body</th>\n",
       "      <th>similarity_score</th>\n",
       "    </tr>\n",
       "  </thead>\n",
       "  <tbody>\n",
       "    <tr>\n",
       "      <th>4</th>\n",
       "      <td>Do I really need to install a task manager?</td>\n",
       "      <td>&lt;p&gt;Does one really need to install a task manager? My phone does slowdown on rare occasions but it's not something that hampers regular usage.&lt;/p&gt;\\n</td>\n",
       "      <td>1.000000</td>\n",
       "    </tr>\n",
       "    <tr>\n",
       "      <th>130</th>\n",
       "      <td>Is it advisable to run a task killer app on Android</td>\n",
       "      <td>&lt;blockquote&gt;\\n  &lt;p&gt;&lt;strong&gt;Possible Duplicate:&lt;/strong&gt;&lt;br&gt;\\n  &lt;a href=\"https://android.stackexchange.com/questions/9/do-i-really-need-to-install-a-task-manager\"&gt;Do I really need to install a task manager?&lt;/a&gt;  &lt;/p&gt;\\n&lt;/blockquote&gt;\\n\\n\\n\\n&lt;p&gt;Should I run a task killer on Android or does Android manage applications well enough on its own?&lt;/p&gt;\\n</td>\n",
       "      <td>0.472942</td>\n",
       "    </tr>\n",
       "    <tr>\n",
       "      <th>5009</th>\n",
       "      <td>apps(tasks) restarting even after killing them</td>\n",
       "      <td>&lt;blockquote&gt;\\n  &lt;p&gt;&lt;strong&gt;Possible Duplicate:&lt;/strong&gt;&lt;br&gt;\\n  &lt;a href=\"https://android.stackexchange.com/questions/9/do-i-really-need-to-install-a-task-manager\"&gt;Do I really need to install a task manager?&lt;/a&gt;&lt;br&gt;\\n  &lt;a href=\"https://android.stackexchange.com/questions/2258/apps-automatically-starting\"&gt;apps automatically starting?&lt;/a&gt;&lt;br&gt;\\n  &lt;a href=\"https://android.stackexchange.com/q/30332/1465\"&gt;How can I stop applications and services from running?&lt;/a&gt;  &lt;/p&gt;\\n&lt;/blockquote&gt;\\n\\n\\n\\n&lt;p&gt;I have some apps running in background using cpu all the time and draining my batery. I want to stop them. &lt;/p&gt;\\n\\n&lt;p&gt;I have a latest &lt;code&gt;task manager&lt;/code&gt; to kill the background tasks but BUT some of the tasks(apps) are restarting even after killing them, WHY ?&lt;/p&gt;\\n\\n&lt;p&gt;Is there any way to permanently kill a particular task ?&lt;/p&gt;\\n</td>\n",
       "      <td>0.341859</td>\n",
       "    </tr>\n",
       "    <tr>\n",
       "      <th>244</th>\n",
       "      <td>What is the right way to close apps in Android?</td>\n",
       "      <td>&lt;p&gt;I'm new to the Android platform, and this is probably a dumb question, but...&lt;/p&gt;\\n\\n&lt;p&gt;How do you close an app?&lt;/p&gt;\\n\\n&lt;p&gt;When I'm in an app, and I want to get out, I just click on \"Home\" and move on, but I just installed a Task Manager app, and I noticed &lt;em&gt;everything&lt;/em&gt; is left running.&lt;/p&gt;\\n\\n&lt;p&gt;Is there a way to exit apps? Or do I need to use the Task Manager every time I exit something?&lt;/p&gt;\\n</td>\n",
       "      <td>0.341206</td>\n",
       "    </tr>\n",
       "    <tr>\n",
       "      <th>77</th>\n",
       "      <td>How do I identify apps or settings that cause performance problems?</td>\n",
       "      <td>&lt;p&gt;If I am having performance problems, what tools can I use to identify where my performance lags are coming from?  I have used a &lt;a href=\"http://www.appbrain.com/app/nextapp.systempanel.r1\" rel=\"noreferrer\"&gt;System Panel Task Manager&lt;/a&gt;, &lt;a href=\"http://www.appbrain.com/app/com.electricsheep.asi\" rel=\"noreferrer\"&gt;Android System Info&lt;/a&gt;, &lt;a href=\"http://www.appbrain.com/app/com.droidappfactory.systemmanager\" rel=\"noreferrer\"&gt;System Manager Free&lt;/a&gt; and some others but none of them have really identified the problem children.  System Panel Task Manager came the closest with it's historical look at CPU and memory usage but it didn't let me look at &lt;em&gt;which apps&lt;/em&gt; were using how much resources over time.&lt;/p&gt;\\n</td>\n",
       "      <td>0.328852</td>\n",
       "    </tr>\n",
       "  </tbody>\n",
       "</table>\n",
       "</div>"
      ],
      "text/plain": [
       "                                                                    Title  \\\n",
       "4                             Do I really need to install a task manager?   \n",
       "130                   Is it advisable to run a task killer app on Android   \n",
       "5009                       apps(tasks) restarting even after killing them   \n",
       "244                       What is the right way to close apps in Android?   \n",
       "77    How do I identify apps or settings that cause performance problems?   \n",
       "\n",
       "                                                                                                                                                                                                                                                                                                                                                                                                                                                                                                                                                                                                                                                                                                                                                                                                                                                                Body  \\\n",
       "4                                                                                                                                                                                                                                                                                                                                                                                                                                                                                                                                                                                                                                                                                                               <p>Does one really need to install a task manager? My phone does slowdown on rare occasions but it's not something that hampers regular usage.</p>\\n   \n",
       "130                                                                                                                                                                                                                                                                                                                                                                                                                                                                                                         <blockquote>\\n  <p><strong>Possible Duplicate:</strong><br>\\n  <a href=\"https://android.stackexchange.com/questions/9/do-i-really-need-to-install-a-task-manager\">Do I really need to install a task manager?</a>  </p>\\n</blockquote>\\n\\n\\n\\n<p>Should I run a task killer on Android or does Android manage applications well enough on its own?</p>\\n   \n",
       "5009  <blockquote>\\n  <p><strong>Possible Duplicate:</strong><br>\\n  <a href=\"https://android.stackexchange.com/questions/9/do-i-really-need-to-install-a-task-manager\">Do I really need to install a task manager?</a><br>\\n  <a href=\"https://android.stackexchange.com/questions/2258/apps-automatically-starting\">apps automatically starting?</a><br>\\n  <a href=\"https://android.stackexchange.com/q/30332/1465\">How can I stop applications and services from running?</a>  </p>\\n</blockquote>\\n\\n\\n\\n<p>I have some apps running in background using cpu all the time and draining my batery. I want to stop them. </p>\\n\\n<p>I have a latest <code>task manager</code> to kill the background tasks but BUT some of the tasks(apps) are restarting even after killing them, WHY ?</p>\\n\\n<p>Is there any way to permanently kill a particular task ?</p>\\n   \n",
       "244                                                                                                                                                                                                                                                                                                                                                                                                                                          <p>I'm new to the Android platform, and this is probably a dumb question, but...</p>\\n\\n<p>How do you close an app?</p>\\n\\n<p>When I'm in an app, and I want to get out, I just click on \"Home\" and move on, but I just installed a Task Manager app, and I noticed <em>everything</em> is left running.</p>\\n\\n<p>Is there a way to exit apps? Or do I need to use the Task Manager every time I exit something?</p>\\n   \n",
       "77                                                                                                                <p>If I am having performance problems, what tools can I use to identify where my performance lags are coming from?  I have used a <a href=\"http://www.appbrain.com/app/nextapp.systempanel.r1\" rel=\"noreferrer\">System Panel Task Manager</a>, <a href=\"http://www.appbrain.com/app/com.electricsheep.asi\" rel=\"noreferrer\">Android System Info</a>, <a href=\"http://www.appbrain.com/app/com.droidappfactory.systemmanager\" rel=\"noreferrer\">System Manager Free</a> and some others but none of them have really identified the problem children.  System Panel Task Manager came the closest with it's historical look at CPU and memory usage but it didn't let me look at <em>which apps</em> were using how much resources over time.</p>\\n   \n",
       "\n",
       "      similarity_score  \n",
       "4             1.000000  \n",
       "130           0.472942  \n",
       "5009          0.341859  \n",
       "244           0.341206  \n",
       "77            0.328852  "
      ]
     },
     "metadata": {},
     "output_type": "display_data"
    }
   ],
   "source": [
    "pd.options.display.max_colwidth = 1000\n",
    "rank_docs ('D2.csv',D2_tf_score,D2_column_list,input_postD2,D2_tfidf_transformer,D2_df_empty)"
   ]
  },
  {
   "cell_type": "code",
   "execution_count": null,
   "metadata": {},
   "outputs": [],
   "source": []
  }
 ],
 "metadata": {
  "kernelspec": {
   "display_name": "Python 3",
   "language": "python",
   "name": "python3"
  },
  "language_info": {
   "codemirror_mode": {
    "name": "ipython",
    "version": 3
   },
   "file_extension": ".py",
   "mimetype": "text/x-python",
   "name": "python",
   "nbconvert_exporter": "python",
   "pygments_lexer": "ipython3",
   "version": "3.6.8"
  }
 },
 "nbformat": 4,
 "nbformat_minor": 2
}
